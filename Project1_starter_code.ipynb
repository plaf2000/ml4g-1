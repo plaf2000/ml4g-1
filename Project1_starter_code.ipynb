{
 "cells": [
  {
   "cell_type": "markdown",
   "metadata": {},
   "source": [
    "Ho 3 cell-lines, per 2 mi danno tutto e mi hanno anche separato in train and validation, per il terzo mi danno solo le x\n",
    "In cage_train mi danno le x che sono dove sono i picchi di produzione per ogni gene\n",
    "Poi mi danno informazioni aggiuntive in DNAsi (quanto è accessibile il DNA), e marker degli histoni (Quelli che incominciano con la H..)\n",
    "La cosa importante per il risultato e che i numeri sono nell ordine giusto, non importa la magnitudo di questi numeri\n",
    "Per calcolare l errore usano spearman, che controlla solo in rank\n",
    "\n",
    "Quello che alleno sul chromosoma 1 va bene anche sul 3, oppure anche se avessero lo stesso code, non sono comparabili"
   ]
  },
  {
   "cell_type": "code",
   "execution_count": 7,
   "metadata": {},
   "outputs": [],
   "source": [
    "# Import libraries that are required to run your project\n",
    "# You are allowed to add more libraries as you need\n",
    "\n",
    "import pandas as pd\n",
    "import numpy as np\n",
    "from scipy.stats import spearmanr\n",
    "import torch\n",
    "import torch.nn as nn"
   ]
  },
  {
   "cell_type": "markdown",
   "metadata": {},
   "source": [
    "## Work Package 1.1 - Modeling Choices & Data Pre-processing"
   ]
  },
  {
   "cell_type": "code",
   "execution_count": 3,
   "metadata": {},
   "outputs": [],
   "source": [
    "def process_dataframe(df_x, df_y):\n",
    "    # Merge x and y on gene_name\n",
    "    df = pd.merge(df_x, df_y, on='gene_name')\n",
    "\n",
    "    # Invert given the strand\n",
    "    mask = df['strand'] == '-'\n",
    "    df.loc[mask, ['TSS_start', 'TSS_end']] = df.loc[mask, ['TSS_end', 'TSS_start']].values\n",
    "    df = df.drop(columns=['strand'])\n",
    "\n",
    "    # Replace chromosome with numeric values\n",
    "    def chr_to_num(chr_val):\n",
    "        chr_val = chr_val.replace('chr','')\n",
    "        return int(chr_val)\n",
    "    df['chr'] = df['chr'].apply(chr_to_num)\n",
    "    \n",
    "    # Sort by chromosome\n",
    "    df = df.sort_values(by='chr')\n",
    "\n",
    "    # Split into list of DataFrames by chromosome\n",
    "    xs_list = [group for _, group in df.groupby('chr')]\n",
    "\n",
    "    gene_lists = []\n",
    "    ys_list = []\n",
    "    xs_numpy = []\n",
    "    ys_numpy = []\n",
    "\n",
    "    for i, df_chr in enumerate(xs_list):\n",
    "        gene_list = df_chr.pop('gene_name').tolist()  # extract gene_name\n",
    "        y = df_chr.pop('gex').tolist()                # extract target values\n",
    "        df_chr = df_chr.drop(columns=['chr'])         # remove chr column\n",
    "        xs_list[i] = df_chr                            # update the list\n",
    "        gene_lists.append(gene_list)                  # store gene names\n",
    "        ys_list.append(y)                              # store target values\n",
    "\n",
    "        # Convert DataFrame to numpy array\n",
    "        xs_numpy.append(df_chr.to_numpy())\n",
    "        # Convert target list to numpy array\n",
    "        ys_numpy.append(np.array(y))\n",
    "\n",
    "    return xs_numpy, ys_numpy, gene_lists"
   ]
  },
  {
   "cell_type": "code",
   "execution_count": null,
   "metadata": {},
   "outputs": [],
   "source": [
    "#Cage data\n",
    "cage_path = r'Data/CAGE-train/'  # raw string or forward slashes\n",
    "\n",
    "train_x1 = pd.read_csv(cage_path + 'X1_train_info.tsv', sep='\\t', usecols=[0,1,4,5,6])\n",
    "train_y1 = pd.read_csv(cage_path + 'X1_train_y.tsv', sep='\\t')\n",
    "valid_x1 = pd.read_csv(cage_path + 'X1_val_info.tsv', sep='\\t', usecols=[0,1,4,5,6])\n",
    "valid_y1 = pd.read_csv(cage_path + 'X1_val_y.tsv', sep='\\t')\n",
    "train_x2 = pd.read_csv(cage_path + 'X2_train_info.tsv', sep='\\t', usecols=[0,1,4,5,6])\n",
    "train_y2 = pd.read_csv(cage_path + 'X2_train_y.tsv', sep='\\t')\n",
    "valid_x2 = pd.read_csv(cage_path + 'X2_val_info.tsv', sep='\\t', usecols=[0,1,4,5,6])\n",
    "valid_y2 = pd.read_csv(cage_path + 'X2_val_y.tsv', sep='\\t')\n",
    "test_x = pd.read_csv(cage_path + 'X3_test_info.tsv', sep='\\t', usecols=[0,1,4,5,6])\n",
    "\n",
    "t_x1, t_y1, t_names1 = process_dataframe(train_x1, train_y1)\n",
    "t_x2, t_y2, t_names2 = process_dataframe(train_x2, train_y2)\n",
    "\n",
    "train_x = t_x1 + t_x2\n",
    "train_y = t_y1 + t_y2\n",
    "train_names = t_names1 + t_names2\n",
    "\n",
    "v_x1, v_y1, v_names1 = process_dataframe(valid_x1, valid_y1)\n",
    "v_x2, v_y2, v_names2 = process_dataframe(valid_x2, valid_y2)\n",
    "\n",
    "valid_x = v_x1 + v_x2\n",
    "valid_y = v_y1 + v_y2\n",
    "valid_names = v_names1 + v_names2\n"
   ]
  },
  {
   "cell_type": "code",
   "execution_count": null,
   "metadata": {},
   "outputs": [],
   "source": [
    "# Dnase data\n"
   ]
  },
  {
   "cell_type": "markdown",
   "metadata": {},
   "source": [
    "## Work Package 1.2 - Model Building"
   ]
  },
  {
   "cell_type": "code",
   "execution_count": null,
   "metadata": {},
   "outputs": [
    {
     "name": "stdout",
     "output_type": "stream",
     "text": [
      "torch.Size([1, 100])\n"
     ]
    }
   ],
   "source": [
    "class GeneModel(nn.Module):\n",
    "    def __init__(self):\n",
    "        super().__init__()\n",
    "        self.net = nn.Sequential(\n",
    "            nn.Conv1d(2, 32, kernel_size=3, padding='same'),\n",
    "            nn.ReLU(),\n",
    "            nn.Conv1d(32, 16, kernel_size=3, padding='same'),\n",
    "            nn.ReLU(),\n",
    "            nn.Conv1d(16, 1, kernel_size=1)  # output one number per gene\n",
    "        )\n",
    "\n",
    "    def forward(self, x):\n",
    "        # x shape: (batch, features=2, genes)\n",
    "        out = self.net(x)\n",
    "        return out.squeeze(1)  # shape: (batch, genes)\n",
    "\n",
    "# Example usage:\n",
    "model = GeneModel()\n"
   ]
  },
  {
   "cell_type": "code",
   "execution_count": null,
   "metadata": {},
   "outputs": [],
   "source": [
    "##TRAINING AND EVALUATION LOGIC GOES HERE##\n"
   ]
  },
  {
   "cell_type": "markdown",
   "metadata": {},
   "source": [
    "## Work Package 1.3 - Prediction on Test Data (Evaluation Metric)"
   ]
  },
  {
   "cell_type": "code",
   "execution_count": null,
   "metadata": {},
   "outputs": [],
   "source": [
    "# ---------------------------INSERT CODE HERE---------------------------\n",
    "\n",
    "\n",
    "\n",
    "\n",
    "# ----------------------------------------------------------------------\n",
    "\n",
    "# Check if \"pred\" meets the specified constrains\n",
    "assert isinstance(pred, np.ndarray), 'Prediction array must be a numpy array'\n",
    "assert np.issubdtype(pred.dtype, np.number), 'Prediction array must be numeric'\n",
    "assert pred.shape[0] == len(test_genes), 'Each gene should have a unique predicted expression'"
   ]
  },
  {
   "cell_type": "code",
   "execution_count": 14,
   "metadata": {},
   "outputs": [],
   "source": [
    "model.eval()  # Set the model to evaluation mode\n",
    "preds = []\n",
    "for X_chr, y_chr in zip(train_x, train_y):\n",
    "    # Convert numpy arrays to torch tensors\n",
    "    X_chr = torch.tensor(X_chr.T, dtype=torch.float32).unsqueeze(0)  # (1, 2, num_genes)\n",
    "    y_chr = torch.tensor(y_chr, dtype=torch.float32).unsqueeze(0)    # (1, num_genes)\n",
    "\n",
    "    preds.append(model(X_chr))\n"
   ]
  },
  {
   "cell_type": "code",
   "execution_count": 21,
   "metadata": {},
   "outputs": [
    {
     "name": "stdout",
     "output_type": "stream",
     "text": [
      "     gene_name   prediction\n",
      "0       PRSS56  1251079.250\n",
      "1        MZT2B  2166804.250\n",
      "2         POMC -7441639.000\n",
      "3      TMEM177  2736535.750\n",
      "4        TTC7A -3640067.500\n",
      "...        ...          ...\n",
      "1198     CASP8 -3566437.750\n",
      "1199     TRPM8  3872184.750\n",
      "1200   FAM166C -8041816.000\n",
      "1201   DNAJC10  1045738.125\n",
      "1202   SLC20A1  2441869.500\n",
      "\n",
      "[1203 rows x 2 columns]\n"
     ]
    }
   ],
   "source": [
    "# Convert to numpy if tensor\n",
    "pred_values = preds[0].detach().cpu().numpy().ravel()  # assuming same chromosome index\n",
    "gene_names_chr = train_names[0]  # assuming same chromosome index\n",
    "\n",
    "# Build DataFrame\n",
    "df_pred = pd.DataFrame({\n",
    "    'gene_name': gene_names_chr,\n",
    "    'prediction': pred_values\n",
    "})\n",
    "\n",
    "print(df_pred)"
   ]
  },
  {
   "cell_type": "markdown",
   "metadata": {},
   "source": [
    "#### Store Predictions in the Required Format"
   ]
  },
  {
   "cell_type": "code",
   "execution_count": null,
   "metadata": {},
   "outputs": [],
   "source": [
    "# Store predictions in a ZIP. \n",
    "# Upload this zip on the project website under \"Your submission\".\n",
    "# Zip this notebook along with the conda environment (and README, optional) and upload this under \"Your code\".\n",
    "\n",
    "save_dir = 'path/to/save/output/file'  # TODO\n",
    "file_name = 'gex_predicted.csv'         # PLEASE DO NOT CHANGE THIS\n",
    "zip_name = \"LastName_FirstName_Project1.zip\" # TODO\n",
    "save_path = f'{save_dir}/{zip_name}'\n",
    "compression_options = dict(method=\"zip\", archive_name=file_name)\n",
    "\n",
    "test_genes['gex_predicted'] = pred.tolist()\n",
    "test_genes[['gene_name', 'gex_predicted']].to_csv(save_path, compression=compression_options)"
   ]
  }
 ],
 "metadata": {
  "kernelspec": {
   "display_name": "Python 3",
   "language": "python",
   "name": "python3"
  },
  "language_info": {
   "codemirror_mode": {
    "name": "ipython",
    "version": 3
   },
   "file_extension": ".py",
   "mimetype": "text/x-python",
   "name": "python",
   "nbconvert_exporter": "python",
   "pygments_lexer": "ipython3",
   "version": "3.13.0"
  }
 },
 "nbformat": 4,
 "nbformat_minor": 2
}
