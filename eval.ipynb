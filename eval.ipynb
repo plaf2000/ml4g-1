{
 "cells": [
  {
   "cell_type": "code",
   "execution_count": 2,
   "id": "7b3fcba0",
   "metadata": {},
   "outputs": [],
   "source": [
    "import torch\n",
    "import numpy as np\n",
    "import matplotlib.pyplot as plt\n",
    "from model_fc import Net\n",
    "from scipy import stats\n",
    "from sklearn import preprocessing\n",
    "\n"
   ]
  },
  {
   "cell_type": "code",
   "execution_count": 9,
   "id": "0de77775",
   "metadata": {},
   "outputs": [
    {
     "data": {
      "text/plain": [
       "<All keys matched successfully>"
      ]
     },
     "execution_count": 9,
     "metadata": {},
     "output_type": "execute_result"
    }
   ],
   "source": [
    "model = Net()\n",
    "model.load_state_dict(torch.load(\"models/model_20251020_155551_BS2056_EP1000_LR0.001_VS0.2_KNN5_NFB5\"))"
   ]
  },
  {
   "cell_type": "code",
   "execution_count": 13,
   "id": "a95adf6d",
   "metadata": {},
   "outputs": [
    {
     "name": "stdout",
     "output_type": "stream",
     "text": [
      "2.4684919787469513\n",
      "Spearman's R: 0.4204279329040448\n"
     ]
    }
   ],
   "source": [
    "TRAIN_DATA_PATH = \"Data/processed/train_bed_data.npz\"\n",
    "\n",
    "training_data = np.load(TRAIN_DATA_PATH)\n",
    "X1: np.ndarray = training_data[\"X1\"]\n",
    "X2: np.ndarray = training_data[\"X2\"]\n",
    "\n",
    "\n",
    "X = np.concatenate((X1, X2), axis=0)\n",
    "\n",
    "X = X.reshape(X.shape[0], -1)\n",
    "scaler = preprocessing.StandardScaler().fit(X)\n",
    "\n",
    "VAL_DATA_PATH = \"Data/processed/val_bed_data.npz\"\n",
    "\n",
    "val_data = np.load(VAL_DATA_PATH)\n",
    "\n",
    "X1: np.ndarray = val_data[\"X1\"]\n",
    "X2: np.ndarray = val_data[\"X2\"]\n",
    "\n",
    "val_X = np.concatenate((X1, X2), axis=0)\n",
    "val_X = val_X.reshape(val_X.shape[0], -1)\n",
    "val_X = scaler.transform(val_X)\n",
    "y_X1_val: np.ndarray = np.load(\"Data/processed/X1_val_y.npy\")\n",
    "y_X2_val: np.ndarray = np.load(\"Data/processed/X2_val_y.npy\")\n",
    "val_y = np.log(np.concatenate((y_X1_val, y_X2_val), axis=0) + 1)\n",
    "\n",
    "pred = model(torch.tensor(val_X, dtype=torch.float32)).detach().numpy()\n",
    "print(np.linalg.norm(pred - val_y) / len(val_y))\n",
    "print(\"Spearman's R:\", stats.spearmanr(pred, val_y)[0])"
   ]
  },
  {
   "cell_type": "code",
   "execution_count": null,
   "id": "a07491de",
   "metadata": {},
   "outputs": [],
   "source": [
    "\n",
    "plt.scatter(y, pred)\n"
   ]
  },
  {
   "cell_type": "code",
   "execution_count": 8,
   "id": "022588b5",
   "metadata": {},
   "outputs": [
    {
     "data": {
      "text/plain": [
       "(array([2.8595e+04, 9.0000e+00, 2.0000e+00, 1.0000e+00, 4.0000e+00,\n",
       "        2.0000e+00, 3.0000e+00, 3.0000e+00, 0.0000e+00, 1.0000e+00]),\n",
       " array([  0.        ,  29.00317383,  58.00634766,  87.00952148,\n",
       "        116.01269531, 145.01586914, 174.01904297, 203.0222168 ,\n",
       "        232.02539062, 261.02856445, 290.03173828]),\n",
       " <BarContainer object of 10 artists>)"
      ]
     },
     "execution_count": 8,
     "metadata": {},
     "output_type": "execute_result"
    },
    {
     "data": {
      "image/png": "[encoded data removed]",
      "text/plain": [
       "<Figure size 640x480 with 1 Axes>"
      ]
     },
     "metadata": {},
     "output_type": "display_data"
    }
   ],
   "source": [
    "plt.hist(pred)"
   ]
  },
  {
   "cell_type": "code",
   "execution_count": 16,
   "id": "693b3865",
   "metadata": {},
   "outputs": [
    {
     "data": {
      "text/plain": [
       "28620"
      ]
     },
     "execution_count": 16,
     "metadata": {},
     "output_type": "execute_result"
    }
   ],
   "source": [
    "len(pred)"
   ]
  },
  {
   "cell_type": "code",
   "execution_count": 9,
   "id": "c6c410cc",
   "metadata": {},
   "outputs": [
    {
     "data": {
      "text/plain": [
       "SignificanceResult(statistic=np.float64(0.8010774447838555), pvalue=np.float64(0.0))"
      ]
     },
     "execution_count": 9,
     "metadata": {},
     "output_type": "execute_result"
    }
   ],
   "source": [
    "from model_cnn import GeneModel\n",
    "\n",
    "\n",
    "X1_val: np.ndarray = np.load(\"Data/processed/cnn_input_X1_val.npy\")\n",
    "X2_val: np.ndarray = np.load(\"Data/processed/cnn_input_X2_val.npy\")\n",
    "\n",
    "y_X1_val:  np.ndarray = np.load(\"Data/processed/X1_val_y.npy\")\n",
    "y_X2_val: np.ndarray = np.load(\"Data/processed/X2_val_y.npy\")\n",
    "\n",
    "\n",
    "X_val = np.concatenate((X1_val, X2_val), axis=0)\n",
    "y_val = np.concatenate((y_X1_val, y_X2_val), axis=0)\n",
    "\n",
    "missing_val = np.any(np.isnan(X_val) | np.isinf(X_val), axis=(1,2))\n",
    "X_val = X_val[~missing_val, :, :]\n",
    "y_val = y_val[~missing_val]\n",
    "\n",
    "net = torch.load(\"models/cnn_20251020_163812_VLOSS1.356_BS2056_LR0.001_BIN100_W10000\", weights_only=False)\n",
    "# net.load_state_dict(torch.load(\"models/model_20251020_161703_BS2056_LR0.001_VS0.2_BIN100_W10000.0\"))\n",
    "net.eval()\n",
    "\n",
    "y_val_pred = net(torch.tensor(X_val, dtype=torch.float32)).detach().numpy()\n",
    "\n",
    "stats.spearmanr(np.exp(y_val_pred.flatten()), y_val)"
   ]
  },
  {
   "cell_type": "markdown",
   "id": "a63c6ad7",
   "metadata": {},
   "source": [
    "Generate submission file"
   ]
  },
  {
   "cell_type": "code",
   "execution_count": 11,
   "id": "79507ed3",
   "metadata": {},
   "outputs": [],
   "source": [
    "import pandas as pd"
   ]
  },
  {
   "cell_type": "code",
   "execution_count": 13,
   "id": "53a2be46",
   "metadata": {},
   "outputs": [],
   "source": [
    "X3_test = np.load(\"Data/processed/cnn_input_X3_test.npy\")\n",
    "net.eval()\n",
    "y_test_pred = net(torch.tensor(X3_test, dtype=torch.float32)).detach().numpy()\n",
    "\n",
    "df_submission = pd.read_csv('./Data/CAGE-train/X3_test_info.tsv', sep='\\t', usecols=[0,1])\n",
    "df_submission['gex_predicted'] = np.exp(y_test_pred.flatten()) - 1\n",
    "df_submission.to_csv('Data/submission/gex_predicted.csv', index=True)"
   ]
  }
 ],
 "metadata": {
  "kernelspec": {
   "display_name": "ml4g",
   "language": "python",
   "name": "python3"
  },
  "language_info": {
   "codemirror_mode": {
    "name": "ipython",
    "version": 3
   },
   "file_extension": ".py",
   "mimetype": "text/x-python",
   "name": "python",
   "nbconvert_exporter": "python",
   "pygments_lexer": "ipython3",
   "version": "3.12.12"
  }
 },
 "nbformat": 4,
 "nbformat_minor": 5
}
