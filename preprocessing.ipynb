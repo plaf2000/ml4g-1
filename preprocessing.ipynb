{
 "cells": [
  {
   "cell_type": "code",
   "execution_count": 1,
   "id": "7e1d3c95",
   "metadata": {},
   "outputs": [],
   "source": [
    "import pandas as pd\n",
    "import numpy as np\n",
    "import os\n",
    "import parameters\n",
    "from tqdm import tqdm\n"
   ]
  },
  {
   "cell_type": "code",
   "execution_count": null,
   "id": "d5ffdc2c",
   "metadata": {},
   "outputs": [],
   "source": [
    "parameters.KNN"
   ]
  },
  {
   "cell_type": "code",
   "execution_count": null,
   "id": "4d246a03",
   "metadata": {},
   "outputs": [
    {
     "name": "stderr",
     "output_type": "stream",
     "text": [
      " 17%|█▋        | 2492/14310 [00:16<01:19, 147.91it/s]\n"
     ]
    },
    {
     "ename": "KeyboardInterrupt",
     "evalue": "",
     "output_type": "error",
     "traceback": [
      "\u001b[31m---------------------------------------------------------------------------\u001b[39m",
      "\u001b[31mKeyboardInterrupt\u001b[39m                         Traceback (most recent call last)",
      "\u001b[36mCell\u001b[39m\u001b[36m \u001b[39m\u001b[32mIn[7]\u001b[39m\u001b[32m, line 27\u001b[39m\n\u001b[32m     25\u001b[39m TSS_start = row[\u001b[33m\"\u001b[39m\u001b[33mTSS_start\u001b[39m\u001b[33m\"\u001b[39m]\n\u001b[32m     26\u001b[39m TSS_end = row[\u001b[33m\"\u001b[39m\u001b[33mTSS_end\u001b[39m\u001b[33m\"\u001b[39m]\n\u001b[32m---> \u001b[39m\u001b[32m27\u001b[39m same_chromosome = bed[\u001b[43mbed\u001b[49m\u001b[43m[\u001b[49m\u001b[33;43m\"\u001b[39;49m\u001b[33;43mchr\u001b[39;49m\u001b[33;43m\"\u001b[39;49m\u001b[43m]\u001b[49m\u001b[43m \u001b[49m\u001b[43m==\u001b[49m\u001b[43m \u001b[49m\u001b[38;5;28;43mchr\u001b[39;49m].copy()\n\u001b[32m     28\u001b[39m same_chromosome[\u001b[33m\"\u001b[39m\u001b[33mdistance\u001b[39m\u001b[33m\"\u001b[39m] = np.abs(same_chromosome[\u001b[33m\"\u001b[39m\u001b[33mcenter\u001b[39m\u001b[33m\"\u001b[39m] - TSS_start)\n\u001b[32m     29\u001b[39m knn = same_chromosome.iloc[np.argsort(same_chromosome[\u001b[33m\"\u001b[39m\u001b[33mdistance\u001b[39m\u001b[33m\"\u001b[39m])[:parameters.KNN]]\n",
      "\u001b[36mFile \u001b[39m\u001b[32m/opt/python/plaf/miniforge3/envs/ml4g/lib/python3.12/site-packages/pandas/core/ops/common.py:76\u001b[39m, in \u001b[36m_unpack_zerodim_and_defer.<locals>.new_method\u001b[39m\u001b[34m(self, other)\u001b[39m\n\u001b[32m     72\u001b[39m             \u001b[38;5;28;01mreturn\u001b[39;00m \u001b[38;5;28mNotImplemented\u001b[39m\n\u001b[32m     74\u001b[39m other = item_from_zerodim(other)\n\u001b[32m---> \u001b[39m\u001b[32m76\u001b[39m \u001b[38;5;28;01mreturn\u001b[39;00m \u001b[43mmethod\u001b[49m\u001b[43m(\u001b[49m\u001b[38;5;28;43mself\u001b[39;49m\u001b[43m,\u001b[49m\u001b[43m \u001b[49m\u001b[43mother\u001b[49m\u001b[43m)\u001b[49m\n",
      "\u001b[36mFile \u001b[39m\u001b[32m/opt/python/plaf/miniforge3/envs/ml4g/lib/python3.12/site-packages/pandas/core/arraylike.py:40\u001b[39m, in \u001b[36mOpsMixin.__eq__\u001b[39m\u001b[34m(self, other)\u001b[39m\n\u001b[32m     38\u001b[39m \u001b[38;5;129m@unpack_zerodim_and_defer\u001b[39m(\u001b[33m\"\u001b[39m\u001b[33m__eq__\u001b[39m\u001b[33m\"\u001b[39m)\n\u001b[32m     39\u001b[39m \u001b[38;5;28;01mdef\u001b[39;00m\u001b[38;5;250m \u001b[39m\u001b[34m__eq__\u001b[39m(\u001b[38;5;28mself\u001b[39m, other):\n\u001b[32m---> \u001b[39m\u001b[32m40\u001b[39m     \u001b[38;5;28;01mreturn\u001b[39;00m \u001b[38;5;28;43mself\u001b[39;49m\u001b[43m.\u001b[49m\u001b[43m_cmp_method\u001b[49m\u001b[43m(\u001b[49m\u001b[43mother\u001b[49m\u001b[43m,\u001b[49m\u001b[43m \u001b[49m\u001b[43moperator\u001b[49m\u001b[43m.\u001b[49m\u001b[43meq\u001b[49m\u001b[43m)\u001b[49m\n",
      "\u001b[36mFile \u001b[39m\u001b[32m/opt/python/plaf/miniforge3/envs/ml4g/lib/python3.12/site-packages/pandas/core/series.py:6138\u001b[39m, in \u001b[36mSeries._cmp_method\u001b[39m\u001b[34m(self, other, op)\u001b[39m\n\u001b[32m   6135\u001b[39m lvalues = \u001b[38;5;28mself\u001b[39m._values\n\u001b[32m   6136\u001b[39m rvalues = extract_array(other, extract_numpy=\u001b[38;5;28;01mTrue\u001b[39;00m, extract_range=\u001b[38;5;28;01mTrue\u001b[39;00m)\n\u001b[32m-> \u001b[39m\u001b[32m6138\u001b[39m res_values = \u001b[43mops\u001b[49m\u001b[43m.\u001b[49m\u001b[43mcomparison_op\u001b[49m\u001b[43m(\u001b[49m\u001b[43mlvalues\u001b[49m\u001b[43m,\u001b[49m\u001b[43m \u001b[49m\u001b[43mrvalues\u001b[49m\u001b[43m,\u001b[49m\u001b[43m \u001b[49m\u001b[43mop\u001b[49m\u001b[43m)\u001b[49m\n\u001b[32m   6140\u001b[39m \u001b[38;5;28;01mreturn\u001b[39;00m \u001b[38;5;28mself\u001b[39m._construct_result(res_values, name=res_name)\n",
      "\u001b[36mFile \u001b[39m\u001b[32m/opt/python/plaf/miniforge3/envs/ml4g/lib/python3.12/site-packages/pandas/core/ops/array_ops.py:344\u001b[39m, in \u001b[36mcomparison_op\u001b[39m\u001b[34m(left, right, op)\u001b[39m\n\u001b[32m    341\u001b[39m     \u001b[38;5;28;01mreturn\u001b[39;00m invalid_comparison(lvalues, rvalues, op)\n\u001b[32m    343\u001b[39m \u001b[38;5;28;01melif\u001b[39;00m lvalues.dtype == \u001b[38;5;28mobject\u001b[39m \u001b[38;5;129;01mor\u001b[39;00m \u001b[38;5;28misinstance\u001b[39m(rvalues, \u001b[38;5;28mstr\u001b[39m):\n\u001b[32m--> \u001b[39m\u001b[32m344\u001b[39m     res_values = \u001b[43mcomp_method_OBJECT_ARRAY\u001b[49m\u001b[43m(\u001b[49m\u001b[43mop\u001b[49m\u001b[43m,\u001b[49m\u001b[43m \u001b[49m\u001b[43mlvalues\u001b[49m\u001b[43m,\u001b[49m\u001b[43m \u001b[49m\u001b[43mrvalues\u001b[49m\u001b[43m)\u001b[49m\n\u001b[32m    346\u001b[39m \u001b[38;5;28;01melse\u001b[39;00m:\n\u001b[32m    347\u001b[39m     res_values = _na_arithmetic_op(lvalues, rvalues, op, is_cmp=\u001b[38;5;28;01mTrue\u001b[39;00m)\n",
      "\u001b[36mFile \u001b[39m\u001b[32m/opt/python/plaf/miniforge3/envs/ml4g/lib/python3.12/site-packages/pandas/core/ops/array_ops.py:129\u001b[39m, in \u001b[36mcomp_method_OBJECT_ARRAY\u001b[39m\u001b[34m(op, x, y)\u001b[39m\n\u001b[32m    127\u001b[39m     result = libops.vec_compare(x.ravel(), y.ravel(), op)\n\u001b[32m    128\u001b[39m \u001b[38;5;28;01melse\u001b[39;00m:\n\u001b[32m--> \u001b[39m\u001b[32m129\u001b[39m     result = \u001b[43mlibops\u001b[49m\u001b[43m.\u001b[49m\u001b[43mscalar_compare\u001b[49m\u001b[43m(\u001b[49m\u001b[43mx\u001b[49m\u001b[43m.\u001b[49m\u001b[43mravel\u001b[49m\u001b[43m(\u001b[49m\u001b[43m)\u001b[49m\u001b[43m,\u001b[49m\u001b[43m \u001b[49m\u001b[43my\u001b[49m\u001b[43m,\u001b[49m\u001b[43m \u001b[49m\u001b[43mop\u001b[49m\u001b[43m)\u001b[49m\n\u001b[32m    130\u001b[39m \u001b[38;5;28;01mreturn\u001b[39;00m result.reshape(x.shape)\n",
      "\u001b[31mKeyboardInterrupt\u001b[39m: "
     ]
    }
   ],
   "source": [
    "header = [\"chr\", \"start\", \"end\", \"name\", \"score\", \"strand\", \"signalValue\", \"pValue\", \"qValue\", \"peak\"]\n",
    "all_chroms = {f\"chr{i}\" for i in range(1, 23)}\n",
    "B = {\"chr14\", \"chr19\"}\n",
    "C = {\"chr1\"}\n",
    "A = all_chroms - B - C\n",
    "\n",
    "data_train = {}\n",
    "sorted_indexes = {}\n",
    "\n",
    "n_sorted_indexes = 100\n",
    "\n",
    "\n",
    "for cell_type in [\"X1\", \"X2\"]:\n",
    "    train_df = pd.read_csv(f\"Data/CAGE-train/{cell_type}_train_info.tsv\", sep=\"\\t\") #, index_col=\"gene_name\")\n",
    "\n",
    "    data_train[cell_type] = np.zeros((len(train_df), parameters.N_BEDS, parameters.KNN, parameters.N_FEATURES_BED + 1))\n",
    "    sorted_indexes[cell_type] = -np.ones((len(train_df), parameters.N_BEDS, n_sorted_indexes), dtype=int)\n",
    "    \n",
    "    for signal_index, signal in enumerate(os.listdir(\"Data/bed/\")):\n",
    "        bed = pd.read_csv(f\"Data/bed/{signal}/{cell_type}.bed\", names=header, sep=\"\\t\")\n",
    "        bed[\"center\"] = (bed[\"start\"] + bed[\"end\"]) // 2\n",
    "\n",
    "        # joined_df = train_df.merge(bed, on=\"chr\", how=\"inner\", suffixes=('_train', '_bed'))\n",
    "        # joined_df[\"distance\"] = np.abs(joined_df[\"center\"] - joined_df[\"TSS_start\"])\n",
    "        # joined_df = joined_df.groupby(\"gene_name\").apply(lambda x: x.nsmallest(parameters.KNN, \"distance\"))\n",
    "        # print(joined_df.head())\n",
    "\n",
    "        for row_index, row in tqdm(train_df.iterrows(), total=len(train_df)):\n",
    "            chr = row[\"chr\"]\n",
    "            TSS_start = row[\"TSS_start\"]\n",
    "            TSS_end = row[\"TSS_end\"]\n",
    "            same_chromosome = bed[bed[\"chr\"] == chr].copy()\n",
    "            same_chromosome[\"distance\"] = np.abs(same_chromosome[\"center\"] - TSS_start)\n",
    "            closest_indexes = np.argsort(same_chromosome[\"distance\"])[:n_sorted_indexes]\n",
    "            knn = same_chromosome.iloc[closest_indexes[:parameters.KNN]]\n",
    "\n",
    "            data_train[cell_type][row_index, signal_index, :, 0] = knn[\"signalValue\"].values\n",
    "            data_train[cell_type][row_index, signal_index, :, 1] = knn[\"distance\"].values\n",
    "            sorted_indexes[cell_type][row_index, signal_index, :len(closest_indexes)] = closest_indexes\n",
    "\n",
    "        \n"
   ]
  },
  {
   "cell_type": "code",
   "execution_count": null,
   "id": "f0389844",
   "metadata": {},
   "outputs": [
    {
     "data": {
      "text/html": [
       "<div>\n",
       "<style scoped>\n",
       "    .dataframe tbody tr th:only-of-type {\n",
       "        vertical-align: middle;\n",
       "    }\n",
       "\n",
       "    .dataframe tbody tr th {\n",
       "        vertical-align: top;\n",
       "    }\n",
       "\n",
       "    .dataframe thead th {\n",
       "        text-align: right;\n",
       "    }\n",
       "</style>\n",
       "<table border=\"1\" class=\"dataframe\">\n",
       "  <thead>\n",
       "    <tr style=\"text-align: right;\">\n",
       "      <th></th>\n",
       "      <th>chr</th>\n",
       "      <th>start</th>\n",
       "      <th>end</th>\n",
       "      <th>name</th>\n",
       "      <th>score</th>\n",
       "      <th>strand</th>\n",
       "      <th>signalValue</th>\n",
       "      <th>pValue</th>\n",
       "      <th>qValue</th>\n",
       "      <th>peak</th>\n",
       "      <th>signal</th>\n",
       "      <th>center</th>\n",
       "    </tr>\n",
       "  </thead>\n",
       "  <tbody>\n",
       "    <tr>\n",
       "      <th>81541</th>\n",
       "      <td>chr1</td>\n",
       "      <td>181405</td>\n",
       "      <td>181555</td>\n",
       "      <td>.</td>\n",
       "      <td>0</td>\n",
       "      <td>.</td>\n",
       "      <td>12.379543</td>\n",
       "      <td>-1.0</td>\n",
       "      <td>-1.0</td>\n",
       "      <td>75</td>\n",
       "      <td>DNase-bed</td>\n",
       "      <td>181480.0</td>\n",
       "    </tr>\n",
       "    <tr>\n",
       "      <th>81542</th>\n",
       "      <td>chr1</td>\n",
       "      <td>267990</td>\n",
       "      <td>268140</td>\n",
       "      <td>.</td>\n",
       "      <td>0</td>\n",
       "      <td>.</td>\n",
       "      <td>12.379543</td>\n",
       "      <td>-1.0</td>\n",
       "      <td>-1.0</td>\n",
       "      <td>75</td>\n",
       "      <td>DNase-bed</td>\n",
       "      <td>268065.0</td>\n",
       "    </tr>\n",
       "    <tr>\n",
       "      <th>81543</th>\n",
       "      <td>chr1</td>\n",
       "      <td>629160</td>\n",
       "      <td>629310</td>\n",
       "      <td>.</td>\n",
       "      <td>0</td>\n",
       "      <td>.</td>\n",
       "      <td>22.263896</td>\n",
       "      <td>-1.0</td>\n",
       "      <td>-1.0</td>\n",
       "      <td>75</td>\n",
       "      <td>DNase-bed</td>\n",
       "      <td>629235.0</td>\n",
       "    </tr>\n",
       "    <tr>\n",
       "      <th>81544</th>\n",
       "      <td>chr1</td>\n",
       "      <td>629494</td>\n",
       "      <td>629644</td>\n",
       "      <td>.</td>\n",
       "      <td>0</td>\n",
       "      <td>.</td>\n",
       "      <td>10.732151</td>\n",
       "      <td>-1.0</td>\n",
       "      <td>-1.0</td>\n",
       "      <td>75</td>\n",
       "      <td>DNase-bed</td>\n",
       "      <td>629569.0</td>\n",
       "    </tr>\n",
       "    <tr>\n",
       "      <th>81545</th>\n",
       "      <td>chr1</td>\n",
       "      <td>629870</td>\n",
       "      <td>630020</td>\n",
       "      <td>.</td>\n",
       "      <td>0</td>\n",
       "      <td>.</td>\n",
       "      <td>3603.694491</td>\n",
       "      <td>-1.0</td>\n",
       "      <td>-1.0</td>\n",
       "      <td>75</td>\n",
       "      <td>DNase-bed</td>\n",
       "      <td>629945.0</td>\n",
       "    </tr>\n",
       "  </tbody>\n",
       "</table>\n",
       "</div>"
      ],
      "text/plain": [
       "        chr   start     end name  score strand  signalValue  pValue  qValue  \\\n",
       "81541  chr1  181405  181555    .      0      .    12.379543    -1.0    -1.0   \n",
       "81542  chr1  267990  268140    .      0      .    12.379543    -1.0    -1.0   \n",
       "81543  chr1  629160  629310    .      0      .    22.263896    -1.0    -1.0   \n",
       "81544  chr1  629494  629644    .      0      .    10.732151    -1.0    -1.0   \n",
       "81545  chr1  629870  630020    .      0      .  3603.694491    -1.0    -1.0   \n",
       "\n",
       "       peak     signal    center  \n",
       "81541    75  DNase-bed  181480.0  \n",
       "81542    75  DNase-bed  268065.0  \n",
       "81543    75  DNase-bed  629235.0  \n",
       "81544    75  DNase-bed  629569.0  \n",
       "81545    75  DNase-bed  629945.0  "
      ]
     },
     "execution_count": 27,
     "metadata": {},
     "output_type": "execute_result"
    }
   ],
   "source": [
    "X1[\"center\"] = (X1[\"start\"] + X1[\"end\"]) / 2\n",
    "X1[X1[\"signal\"] == \"DNase-bed\"].head()"
   ]
  },
  {
   "cell_type": "code",
   "execution_count": null,
   "id": "d633d414",
   "metadata": {},
   "outputs": [],
   "source": [
    "train_data = np.load(\"Data/train_data.npz\", allow_pickle=True)"
   ]
  },
  {
   "cell_type": "code",
   "execution_count": null,
   "id": "8b38689f",
   "metadata": {},
   "outputs": [
    {
     "data": {
      "text/plain": [
       "32568"
      ]
     },
     "execution_count": 24,
     "metadata": {},
     "output_type": "execute_result"
    }
   ],
   "source": [
    "X = train_data[\"x\"]\n",
    "X[:, :, 0].mean()\n",
    "len(X)"
   ]
  }
 ],
 "metadata": {
  "kernelspec": {
   "display_name": "ml4g",
   "language": "python",
   "name": "python3"
  },
  "language_info": {
   "codemirror_mode": {
    "name": "ipython",
    "version": 3
   },
   "file_extension": ".py",
   "mimetype": "text/x-python",
   "name": "python",
   "nbconvert_exporter": "python",
   "pygments_lexer": "ipython3",
   "version": "3.12.12"
  }
 },
 "nbformat": 4,
 "nbformat_minor": 5
}
