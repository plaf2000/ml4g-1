{
 "cells": [
  {
   "cell_type": "code",
   "execution_count": 1,
   "id": "7e1d3c95",
   "metadata": {},
   "outputs": [],
   "source": [
    "import pandas as pd\n",
    "import numpy as np\n",
    "import os\n",
    "import parameters\n",
    "from tqdm import tqdm\n"
   ]
  },
  {
   "cell_type": "code",
   "execution_count": 28,
   "id": "d5ffdc2c",
   "metadata": {},
   "outputs": [
    {
     "data": {
      "text/plain": [
       "5"
      ]
     },
     "execution_count": 28,
     "metadata": {},
     "output_type": "execute_result"
    }
   ],
   "source": [
    "parameters.KNN"
   ]
  },
  {
   "cell_type": "code",
   "execution_count": null,
   "id": "4d246a03",
   "metadata": {},
   "outputs": [
    {
     "name": "stderr",
     "output_type": "stream",
     "text": [
      "100%|██████████| 14310/14310 [01:41<00:00, 141.68it/s]\n",
      "100%|██████████| 14310/14310 [01:21<00:00, 174.69it/s]\n",
      "100%|██████████| 14310/14310 [01:52<00:00, 127.32it/s]\n",
      "100%|██████████| 14310/14310 [01:03<00:00, 225.61it/s]\n",
      "100%|██████████| 14310/14310 [00:50<00:00, 285.45it/s]\n",
      "100%|██████████| 14310/14310 [00:41<00:00, 345.02it/s]\n",
      "100%|██████████| 14310/14310 [01:19<00:00, 179.56it/s]\n",
      "100%|██████████| 14310/14310 [01:35<00:00, 150.01it/s]\n",
      "100%|██████████| 14310/14310 [03:27<00:00, 69.02it/s]\n",
      "100%|██████████| 14310/14310 [03:26<00:00, 69.43it/s]\n",
      "100%|██████████| 14310/14310 [01:02<00:00, 228.40it/s]\n",
      "100%|██████████| 14310/14310 [00:47<00:00, 304.18it/s]\n",
      "100%|██████████| 14310/14310 [01:53<00:00, 125.63it/s]\n",
      "100%|██████████| 14310/14310 [01:35<00:00, 149.60it/s]\n"
     ]
    }
   ],
   "source": [
    "header = [\"chr\", \"start\", \"end\", \"name\", \"score\", \"strand\", \"signalValue\", \"pValue\", \"qValue\", \"peak\"]\n",
    "all_chroms = {f\"chr{i}\" for i in range(1, 23)}\n",
    "B = {\"chr14\", \"chr19\"}\n",
    "C = {\"chr1\"}\n",
    "A = all_chroms - B - C\n",
    "\n",
    "data_train = {}\n",
    "sorted_indexes = {}\n",
    "\n",
    "n_sorted_indexes = 100\n",
    "\n",
    "\n",
    "for cell_type in [\"X1\", \"X2\"]:\n",
    "    train_df = pd.read_csv(f\"Data/CAGE-train/{cell_type}_train_info.tsv\", sep=\"\\t\") #, index_col=\"gene_name\")\n",
    "\n",
    "    data_train[cell_type] = np.zeros((len(train_df), parameters.N_BEDS, parameters.KNN, parameters.N_FEATURES_BED))\n",
    "    sorted_indexes[cell_type] = -np.ones((len(train_df), parameters.N_BEDS, n_sorted_indexes), dtype=int)\n",
    "    \n",
    "    for signal_index, signal in enumerate(os.listdir(\"Data/bed/\")):\n",
    "        bed = pd.read_csv(f\"Data/bed/{signal}/{cell_type}.bed\", names=header, sep=\"\\t\")\n",
    "        bed[\"center\"] = (bed[\"start\"] + bed[\"end\"]) // 2\n",
    "\n",
    "        # joined_df = train_df.merge(bed, on=\"chr\", how=\"inner\", suffixes=('_train', '_bed'))\n",
    "        # joined_df[\"distance\"] = np.abs(joined_df[\"center\"] - joined_df[\"TSS_start\"])\n",
    "        # joined_df = joined_df.groupby(\"gene_name\").apply(lambda x: x.nsmallest(parameters.KNN, \"distance\"))\n",
    "        # print(joined_df.head())\n",
    "\n",
    "        for row_index, row in tqdm(train_df.iterrows(), total=len(train_df)):\n",
    "            chr = row[\"chr\"]\n",
    "            TSS_start = row[\"TSS_start\"]\n",
    "            TSS_end = row[\"TSS_end\"]\n",
    "            same_chromosome = bed[bed[\"chr\"] == chr].copy()\n",
    "            same_chromosome[\"distance\"] = np.abs(same_chromosome[\"center\"] - TSS_start)\n",
    "            closest_indexes = np.argsort(same_chromosome[\"distance\"])[:n_sorted_indexes]\n",
    "            knn = same_chromosome.iloc[closest_indexes[:parameters.KNN]]\n",
    "\n",
    "            data_train[cell_type][row_index, signal_index, :, 0] = knn[\"signalValue\"].values\n",
    "            data_train[cell_type][row_index, signal_index, :, 1] = knn[\"distance\"].values\n",
    "            sorted_indexes[cell_type][row_index, signal_index, :len(closest_indexes)] = closest_indexes\n",
    "\n",
    "        \n"
   ]
  },
  {
   "cell_type": "code",
   "execution_count": 26,
   "id": "8e392342",
   "metadata": {},
   "outputs": [],
   "source": [
    "y_train = {}\n",
    "for cell_type in [\"X1\", \"X2\"]:\n",
    "    train_df = pd.read_csv(f\"Data/CAGE-train/{cell_type}_train_y.tsv\", sep=\"\\t\") #, index_col=\"gene_name\")\n",
    "    y_train[cell_type] = np.array(train_df[\"gex\"].values)"
   ]
  },
  {
   "cell_type": "code",
   "execution_count": 27,
   "id": "0448e0e1",
   "metadata": {},
   "outputs": [],
   "source": [
    "np.savez(f\"Data/processed/data_train.npz\", X1=data_train[\"X1\"], X2=data_train[\"X2\"], labels_X1=y_train[\"X1\"], labels_X2=y_train[\"X2\"])\n",
    "np.savez_compressed(f\"Data/processed/sorted_indexes.npz\", X1=sorted_indexes[\"X1\"], X2=sorted_indexes[\"X2\"])"
   ]
  },
  {
   "cell_type": "code",
   "execution_count": null,
   "id": "ea2392b0",
   "metadata": {},
   "outputs": [],
   "source": [
    "\n",
    "\n",
    "np.savez(f\"Data/processed/labels_train.npz\", X1=y_train[\"X1\"], X2=y_train[\"X2\"])"
   ]
  },
  {
   "cell_type": "code",
   "execution_count": null,
   "id": "f0389844",
   "metadata": {},
   "outputs": [
    {
     "data": {
      "text/html": [
       "<div>\n",
       "<style scoped>\n",
       "    .dataframe tbody tr th:only-of-type {\n",
       "        vertical-align: middle;\n",
       "    }\n",
       "\n",
       "    .dataframe tbody tr th {\n",
       "        vertical-align: top;\n",
       "    }\n",
       "\n",
       "    .dataframe thead th {\n",
       "        text-align: right;\n",
       "    }\n",
       "</style>\n",
       "<table border=\"1\" class=\"dataframe\">\n",
       "  <thead>\n",
       "    <tr style=\"text-align: right;\">\n",
       "      <th></th>\n",
       "      <th>chr</th>\n",
       "      <th>start</th>\n",
       "      <th>end</th>\n",
       "      <th>name</th>\n",
       "      <th>score</th>\n",
       "      <th>strand</th>\n",
       "      <th>signalValue</th>\n",
       "      <th>pValue</th>\n",
       "      <th>qValue</th>\n",
       "      <th>peak</th>\n",
       "      <th>signal</th>\n",
       "      <th>center</th>\n",
       "    </tr>\n",
       "  </thead>\n",
       "  <tbody>\n",
       "    <tr>\n",
       "      <th>81541</th>\n",
       "      <td>chr1</td>\n",
       "      <td>181405</td>\n",
       "      <td>181555</td>\n",
       "      <td>.</td>\n",
       "      <td>0</td>\n",
       "      <td>.</td>\n",
       "      <td>12.379543</td>\n",
       "      <td>-1.0</td>\n",
       "      <td>-1.0</td>\n",
       "      <td>75</td>\n",
       "      <td>DNase-bed</td>\n",
       "      <td>181480.0</td>\n",
       "    </tr>\n",
       "    <tr>\n",
       "      <th>81542</th>\n",
       "      <td>chr1</td>\n",
       "      <td>267990</td>\n",
       "      <td>268140</td>\n",
       "      <td>.</td>\n",
       "      <td>0</td>\n",
       "      <td>.</td>\n",
       "      <td>12.379543</td>\n",
       "      <td>-1.0</td>\n",
       "      <td>-1.0</td>\n",
       "      <td>75</td>\n",
       "      <td>DNase-bed</td>\n",
       "      <td>268065.0</td>\n",
       "    </tr>\n",
       "    <tr>\n",
       "      <th>81543</th>\n",
       "      <td>chr1</td>\n",
       "      <td>629160</td>\n",
       "      <td>629310</td>\n",
       "      <td>.</td>\n",
       "      <td>0</td>\n",
       "      <td>.</td>\n",
       "      <td>22.263896</td>\n",
       "      <td>-1.0</td>\n",
       "      <td>-1.0</td>\n",
       "      <td>75</td>\n",
       "      <td>DNase-bed</td>\n",
       "      <td>629235.0</td>\n",
       "    </tr>\n",
       "    <tr>\n",
       "      <th>81544</th>\n",
       "      <td>chr1</td>\n",
       "      <td>629494</td>\n",
       "      <td>629644</td>\n",
       "      <td>.</td>\n",
       "      <td>0</td>\n",
       "      <td>.</td>\n",
       "      <td>10.732151</td>\n",
       "      <td>-1.0</td>\n",
       "      <td>-1.0</td>\n",
       "      <td>75</td>\n",
       "      <td>DNase-bed</td>\n",
       "      <td>629569.0</td>\n",
       "    </tr>\n",
       "    <tr>\n",
       "      <th>81545</th>\n",
       "      <td>chr1</td>\n",
       "      <td>629870</td>\n",
       "      <td>630020</td>\n",
       "      <td>.</td>\n",
       "      <td>0</td>\n",
       "      <td>.</td>\n",
       "      <td>3603.694491</td>\n",
       "      <td>-1.0</td>\n",
       "      <td>-1.0</td>\n",
       "      <td>75</td>\n",
       "      <td>DNase-bed</td>\n",
       "      <td>629945.0</td>\n",
       "    </tr>\n",
       "  </tbody>\n",
       "</table>\n",
       "</div>"
      ],
      "text/plain": [
       "        chr   start     end name  score strand  signalValue  pValue  qValue  \\\n",
       "81541  chr1  181405  181555    .      0      .    12.379543    -1.0    -1.0   \n",
       "81542  chr1  267990  268140    .      0      .    12.379543    -1.0    -1.0   \n",
       "81543  chr1  629160  629310    .      0      .    22.263896    -1.0    -1.0   \n",
       "81544  chr1  629494  629644    .      0      .    10.732151    -1.0    -1.0   \n",
       "81545  chr1  629870  630020    .      0      .  3603.694491    -1.0    -1.0   \n",
       "\n",
       "       peak     signal    center  \n",
       "81541    75  DNase-bed  181480.0  \n",
       "81542    75  DNase-bed  268065.0  \n",
       "81543    75  DNase-bed  629235.0  \n",
       "81544    75  DNase-bed  629569.0  \n",
       "81545    75  DNase-bed  629945.0  "
      ]
     },
     "execution_count": 27,
     "metadata": {},
     "output_type": "execute_result"
    }
   ],
   "source": [
    "X1[\"center\"] = (X1[\"start\"] + X1[\"end\"]) / 2\n",
    "X1[X1[\"signal\"] == \"DNase-bed\"].head()"
   ]
  },
  {
   "cell_type": "code",
   "execution_count": null,
   "id": "d633d414",
   "metadata": {},
   "outputs": [],
   "source": [
    "train_data = np.load(\"Data/train_data.npz\", allow_pickle=True)"
   ]
  },
  {
   "cell_type": "code",
   "execution_count": null,
   "id": "8b38689f",
   "metadata": {},
   "outputs": [
    {
     "data": {
      "text/plain": [
       "32568"
      ]
     },
     "execution_count": 24,
     "metadata": {},
     "output_type": "execute_result"
    }
   ],
   "source": [
    "X = train_data[\"x\"]\n",
    "X[:, :, 0].mean()\n",
    "len(X)"
   ]
  }
 ],
 "metadata": {
  "kernelspec": {
   "display_name": "ml4g",
   "language": "python",
   "name": "python3"
  },
  "language_info": {
   "codemirror_mode": {
    "name": "ipython",
    "version": 3
   },
   "file_extension": ".py",
   "mimetype": "text/x-python",
   "name": "python",
   "nbconvert_exporter": "python",
   "pygments_lexer": "ipython3",
   "version": "3.12.12"
  }
 },
 "nbformat": 4,
 "nbformat_minor": 5
}
