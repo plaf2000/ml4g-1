{
 "cells": [
  {
   "cell_type": "code",
   "execution_count": 1,
   "id": "7e1d3c95",
   "metadata": {},
   "outputs": [],
   "source": [
    "import pandas as pd\n",
    "import numpy as np\n",
    "import os\n",
    "import parameters\n",
    "from tqdm import tqdm\n"
   ]
  },
  {
   "cell_type": "code",
   "execution_count": 28,
   "id": "d5ffdc2c",
   "metadata": {},
   "outputs": [
    {
     "data": {
      "text/plain": [
       "5"
      ]
     },
     "execution_count": 28,
     "metadata": {},
     "output_type": "execute_result"
    }
   ],
   "source": [
    "parameters.KNN"
   ]
  },
  {
   "cell_type": "code",
   "execution_count": null,
   "id": "4d246a03",
   "metadata": {},
   "outputs": [
    {
     "name": "stderr",
     "output_type": "stream",
     "text": [
      "100%|██████████| 14310/14310 [01:41<00:00, 141.68it/s]\n",
      "100%|██████████| 14310/14310 [01:21<00:00, 174.69it/s]\n",
      "100%|██████████| 14310/14310 [01:52<00:00, 127.32it/s]\n",
      "100%|██████████| 14310/14310 [01:03<00:00, 225.61it/s]\n",
      "100%|██████████| 14310/14310 [00:50<00:00, 285.45it/s]\n",
      "100%|██████████| 14310/14310 [00:41<00:00, 345.02it/s]\n",
      "100%|██████████| 14310/14310 [01:19<00:00, 179.56it/s]\n",
      "100%|██████████| 14310/14310 [01:35<00:00, 150.01it/s]\n",
      "100%|██████████| 14310/14310 [03:27<00:00, 69.02it/s]\n",
      "100%|██████████| 14310/14310 [03:26<00:00, 69.43it/s]\n",
      "100%|██████████| 14310/14310 [01:02<00:00, 228.40it/s]\n",
      "100%|██████████| 14310/14310 [00:47<00:00, 304.18it/s]\n",
      "100%|██████████| 14310/14310 [01:53<00:00, 125.63it/s]\n",
      "100%|██████████| 14310/14310 [01:35<00:00, 149.60it/s]\n"
     ]
    }
   ],
   "source": [
    "header = [\"chr\", \"start\", \"end\", \"name\", \"score\", \"strand\", \"signalValue\", \"pValue\", \"qValue\", \"peak\"]\n",
    "all_chroms = {f\"chr{i}\" for i in range(1, 23)}\n",
    "B = {\"chr14\", \"chr19\"}\n",
    "C = {\"chr1\"}\n",
    "A = all_chroms - B - C\n",
    "\n",
    "data_train = {}\n",
    "sorted_indexes = {}\n",
    "\n",
    "n_sorted_indexes = 100\n",
    "\n",
    "\n",
    "for cell_type in [\"X1\", \"X2\"]:\n",
    "    train_df = pd.read_csv(f\"Data/CAGE-train/{cell_type}_train_info.tsv\", sep=\"\\t\") #, index_col=\"gene_name\")\n",
    "\n",
    "    mask = train_df['strand'] == '-'\n",
    "    train_df.loc[mask, ['TSS_start', 'TSS_end']] = train_df.loc[mask, ['TSS_end', 'TSS_start']].values\n",
    "    train_df = train_df.drop(columns=['strand'])\n",
    "\n",
    "    data_train[cell_type] = np.zeros((len(train_df), parameters.N_BEDS, parameters.KNN, parameters.N_FEATURES_BED))\n",
    "    sorted_indexes[cell_type] = -np.ones((len(train_df), parameters.N_BEDS, n_sorted_indexes), dtype=int)\n",
    "    \n",
    "    for signal_index, signal in enumerate(os.listdir(\"Data/bed/\")):\n",
    "        bed = pd.read_csv(f\"Data/bed/{signal}/{cell_type}.bed\", names=header, sep=\"\\t\")\n",
    "        bed[\"center\"] = (bed[\"start\"] + bed[\"end\"]) // 2\n",
    "\n",
    "        # joined_df = train_df.merge(bed, on=\"chr\", how=\"inner\", suffixes=('_train', '_bed'))\n",
    "        # joined_df[\"distance\"] = np.abs(joined_df[\"center\"] - joined_df[\"TSS_start\"])\n",
    "        # joined_df = joined_df.groupby(\"gene_name\").apply(lambda x: x.nsmallest(parameters.KNN, \"distance\"))\n",
    "        # print(joined_df.head())\n",
    "\n",
    "        for row_index, row in tqdm(train_df.iterrows(), total=len(train_df)):\n",
    "            chr = row[\"chr\"]\n",
    "            TSS_start = row[\"TSS_start\"]\n",
    "            TSS_end = row[\"TSS_end\"]\n",
    "            same_chromosome = bed[bed[\"chr\"] == chr].copy()\n",
    "            same_chromosome[\"rel_pos_TSS_start\"] = np.abs(same_chromosome[\"center\"] - TSS_start)\n",
    "            closest_indexes = np.argsort(same_chromosome[\"rel_pos_TSS_start\"])[:n_sorted_indexes]\n",
    "            knn = same_chromosome.iloc[closest_indexes[:parameters.KNN]]\n",
    "            knn[\"rel_pos_TSS_end\"] = knn[\"center\"] - row[\"TSS_end\"]\n",
    "            knn[\"rel_pos_gene_start\"] = knn[\"center\"] - row[\"gene_start\"]\n",
    "            knn[\"rel_pos_gene_end\"] = knn[\"center\"] - row[\"gene_end\"]\n",
    "\n",
    "            data_train[cell_type][row_index, signal_index, :, 0] = knn[\"signalValue\"].values\n",
    "            data_train[cell_type][row_index, signal_index, :, 1] = knn[\"rel_pos_TSS_start\"].values\n",
    "            data_train[cell_type][row_index, signal_index, :, 2] = knn[\"rel_pos_TSS_end\"].values\n",
    "            data_train[cell_type][row_index, signal_index, :, 3] = knn[\"rel_pos_gene_start\"].values\n",
    "            data_train[cell_type][row_index, signal_index, :, 4] = knn[\"rel_pos_gene_end\"].values\n",
    "            sorted_indexes[cell_type][row_index, signal_index, :len(closest_indexes)] = closest_indexes\n",
    "\n",
    "        \n"
   ]
  },
  {
   "cell_type": "code",
   "execution_count": 26,
   "id": "8e392342",
   "metadata": {},
   "outputs": [],
   "source": [
    "y_train = {}\n",
    "for cell_type in [\"X1\", \"X2\"]:\n",
    "    train_df = pd.read_csv(f\"Data/CAGE-train/{cell_type}_train_y.tsv\", sep=\"\\t\") #, index_col=\"gene_name\")\n",
    "    y_train[cell_type] = np.array(train_df[\"gex\"].values)"
   ]
  },
  {
   "cell_type": "code",
   "execution_count": 35,
   "id": "0448e0e1",
   "metadata": {},
   "outputs": [],
   "source": [
    "np.savez(f\"Data/processed/data_train.npz\", X1=data_train[\"X1\"], X2=data_train[\"X2\"], labels_X1=y_train[\"X1\"], labels_X2=y_train[\"X2\"])"
   ]
  },
  {
   "cell_type": "code",
   "execution_count": null,
   "id": "3cc78f52",
   "metadata": {},
   "outputs": [],
   "source": [
    "np.savez_compressed(f\"Data/processed/sorted_indexes.npz\", X1=sorted_indexes[\"X1\"], X2=sorted_indexes[\"X2\"])\n"
   ]
  },
  {
   "cell_type": "code",
   "execution_count": null,
   "id": "ea2392b0",
   "metadata": {},
   "outputs": [],
   "source": [
    "\n",
    "\n",
    "np.savez(f\"Data/processed/labels_train.npz\", X1=y_train[\"X1\"], X2=y_train[\"X2\"])"
   ]
  },
  {
   "cell_type": "markdown",
   "id": "bd9a3ed3",
   "metadata": {},
   "source": [
    "Create the train data based on already sorted indexes (which is computationally demanding)."
   ]
  },
  {
   "cell_type": "code",
   "execution_count": 33,
   "id": "f0389844",
   "metadata": {},
   "outputs": [
    {
     "name": "stderr",
     "output_type": "stream",
     "text": [
      "100%|██████████| 14310/14310 [01:55<00:00, 123.85it/s]\n",
      "100%|██████████| 14310/14310 [01:29<00:00, 159.72it/s]\n",
      "100%|██████████| 14310/14310 [02:05<00:00, 114.39it/s]\n",
      "100%|██████████| 14310/14310 [01:17<00:00, 184.49it/s]\n",
      "100%|██████████| 14310/14310 [01:01<00:00, 234.54it/s]\n",
      "100%|██████████| 14310/14310 [00:49<00:00, 291.17it/s]\n",
      "100%|██████████| 14310/14310 [01:38<00:00, 145.51it/s]\n",
      "100%|██████████| 14310/14310 [01:54<00:00, 125.07it/s]\n",
      "100%|██████████| 14310/14310 [03:39<00:00, 65.34it/s]\n",
      "100%|██████████| 14310/14310 [02:44<00:00, 86.84it/s] \n",
      "100%|██████████| 14310/14310 [01:07<00:00, 213.43it/s]\n",
      "100%|██████████| 14310/14310 [00:58<00:00, 245.61it/s]\n",
      "100%|██████████| 14310/14310 [02:06<00:00, 112.89it/s]\n",
      "100%|██████████| 14310/14310 [01:54<00:00, 125.26it/s]\n"
     ]
    }
   ],
   "source": [
    "sorted_indexes = np.load(f\"Data/processed/sorted_indexes.npz\")\n",
    "data_train = {}\n",
    "for cell_type in [\"X1\", \"X2\"]:\n",
    "    indexes = sorted_indexes[cell_type]\n",
    "    train_df = pd.read_csv(f\"Data/CAGE-train/{cell_type}_train_info.tsv\", sep=\"\\t\") #, index_col=\"gene_name\")\n",
    "    data_train[cell_type] = np.zeros((len(train_df), parameters.N_BEDS, parameters.KNN, 5))\n",
    "\n",
    "    for signal_index, signal in enumerate(os.listdir(\"Data/bed/\")):\n",
    "        bed = pd.read_csv(f\"Data/bed/{signal}/{cell_type}.bed\", names=header, sep=\"\\t\")\n",
    "        bed[\"center\"] = (bed[\"start\"] + bed[\"end\"]) // 2\n",
    "        for row_index, row in tqdm(train_df.iterrows(), total=len(train_df)):\n",
    "            knn_indx = indexes[row_index, signal_index, :parameters.KNN]\n",
    "            same_chromosome = bed[bed[\"chr\"] == row[\"chr\"]].copy()\n",
    "            knn = same_chromosome.iloc[knn_indx].copy()\n",
    "            knn[\"rel_pos_TSS_start\"] = knn[\"center\"] - row[\"TSS_start\"]\n",
    "            knn[\"rel_pos_TSS_end\"] = knn[\"center\"] - row[\"TSS_end\"]\n",
    "            knn[\"rel_pos_gene_start\"] = knn[\"center\"] - row[\"gene_start\"]\n",
    "            knn[\"rel_pos_gene_end\"] = knn[\"center\"] - row[\"gene_end\"]\n",
    "\n",
    "            data_train[cell_type][row_index, signal_index, :, 0] = knn[\"signalValue\"].values\n",
    "            data_train[cell_type][row_index, signal_index, :, 1] = knn[\"rel_pos_TSS_start\"].values\n",
    "            data_train[cell_type][row_index, signal_index, :, 2] = knn[\"rel_pos_TSS_end\"].values\n",
    "            data_train[cell_type][row_index, signal_index, :, 3] = knn[\"rel_pos_gene_start\"].values\n",
    "            data_train[cell_type][row_index, signal_index, :, 4] = knn[\"rel_pos_gene_end\"].values\n",
    "\n",
    "\n",
    "            \n",
    "    "
   ]
  },
  {
   "cell_type": "code",
   "execution_count": null,
   "id": "f3e551f7",
   "metadata": {},
   "outputs": [],
   "source": []
  },
  {
   "cell_type": "code",
   "execution_count": null,
   "id": "d633d414",
   "metadata": {},
   "outputs": [],
   "source": [
    "train_data = np.load(\"Data/train_data.npz\", allow_pickle=True)"
   ]
  },
  {
   "cell_type": "code",
   "execution_count": null,
   "id": "8b38689f",
   "metadata": {},
   "outputs": [
    {
     "data": {
      "text/plain": [
       "32568"
      ]
     },
     "execution_count": 24,
     "metadata": {},
     "output_type": "execute_result"
    }
   ],
   "source": [
    "X = train_data[\"x\"]\n",
    "X[:, :, 0].mean()\n",
    "len(X)"
   ]
  },
  {
   "cell_type": "markdown",
   "id": "34697a81",
   "metadata": {},
   "source": [
    "# CNN"
   ]
  },
  {
   "cell_type": "code",
   "execution_count": null,
   "id": "4af7d972",
   "metadata": {},
   "outputs": [
    {
     "data": {
      "text/plain": [
       "['DNase', 'H3K4me1', 'H3K4me3', 'H3K27ac', 'H3K36me3']"
      ]
     },
     "execution_count": 3,
     "metadata": {},
     "output_type": "execute_result"
    }
   ],
   "source": [
    "parameters.SIGNALS_CNN\n",
    "\n"
   ]
  },
  {
   "cell_type": "code",
   "execution_count": 52,
   "id": "2c65594b",
   "metadata": {},
   "outputs": [],
   "source": [
    "def process_dataframe(df_x, df_y):\n",
    "    # Merge x and y on gene_name\n",
    "    df = pd.merge(df_x, df_y, on='gene_name')\n",
    "\n",
    "    # Invert given the strand\n",
    "    mask = df['strand'] == '-'\n",
    "    df.loc[mask, ['TSS_start', 'TSS_end']] = df.loc[mask, ['TSS_end', 'TSS_start']].values\n",
    "    df = df.drop(columns=['strand'])\n",
    "\n",
    "    # Replace chromosome with numeric values\n",
    "    def chr_to_num(chr_val):\n",
    "        chr_val = chr_val.replace('chr','')\n",
    "        return int(chr_val)\n",
    "    df['chr'] = df['chr'].apply(chr_to_num)\n",
    "    \n",
    "    # Sort by chromosome\n",
    "    df = df.sort_values(by='chr')\n",
    "\n",
    "    # Split into list of DataFrames by chromosome\n",
    "    xs_list = [group for _, group in df.groupby('chr')]\n",
    "\n",
    "    gene_lists = []\n",
    "    ys_list = []\n",
    "    xs_numpy = []\n",
    "    ys_numpy = []\n",
    "    chroms = []\n",
    "\n",
    "    for i, df_chr in enumerate(xs_list):\n",
    "        gene_list = df_chr.pop('gene_name').tolist()  # extract gene_name\n",
    "        y = df_chr.pop('gex').tolist()     \n",
    "        chroms.append(df_chr['chr'].iloc[0])         # extract target values\n",
    "        df_chr = df_chr.drop(columns=['chr'])         # remove chr column\n",
    "        xs_list[i] = df_chr                            # update the list\n",
    "        gene_lists.append(gene_list)                  # store gene names\n",
    "        ys_list.append(y)                              # store target values\n",
    "\n",
    "        # Convert DataFrame to numpy array (TSS Start and TSS End only)\n",
    "        xs_numpy.append(df_chr.to_numpy())\n",
    "        # Convert target list to numpy array\n",
    "        ys_numpy.append(np.array(y))\n",
    "\n",
    "    return xs_numpy, ys_numpy, gene_lists, chroms\n",
    "\n",
    "#Cage data\n",
    "cage_path = r'Data/CAGE-train/'  # raw string or forward slashes\n",
    "\n",
    "train_x1 = pd.read_csv(cage_path + 'X1_train_info.tsv', sep='\\t', usecols=[0,1,4,5,6])\n",
    "train_y1 = pd.read_csv(cage_path + 'X1_train_y.tsv', sep='\\t')\n",
    "valid_x1 = pd.read_csv(cage_path + 'X1_val_info.tsv', sep='\\t', usecols=[0,1,4,5,6])\n",
    "valid_y1 = pd.read_csv(cage_path + 'X1_val_y.tsv', sep='\\t')\n",
    "train_x2 = pd.read_csv(cage_path + 'X2_train_info.tsv', sep='\\t', usecols=[0,1,4,5,6])\n",
    "train_y2 = pd.read_csv(cage_path + 'X2_train_y.tsv', sep='\\t')\n",
    "valid_x2 = pd.read_csv(cage_path + 'X2_val_info.tsv', sep='\\t', usecols=[0,1,4,5,6])\n",
    "valid_y2 = pd.read_csv(cage_path + 'X2_val_y.tsv', sep='\\t')\n",
    "test_x = pd.read_csv(cage_path + 'X3_test_info.tsv', sep='\\t', usecols=[0,1,4,5,6])\n",
    "\n",
    "t_x1, t_y1, t_names1, t_chroms1 = process_dataframe(train_x1, train_y1)\n",
    "t_x2, t_y2, t_names2, t_chroms2 = process_dataframe(train_x2, train_y2)\n",
    "\n",
    "train_x = t_x1 + t_x2\n",
    "train_y = t_y1 + t_y2\n",
    "train_names = t_names1 + t_names2\n",
    "\n",
    "v_x1, v_y1, v_names1, v_chroms1 = process_dataframe(valid_x1, valid_y1)\n",
    "v_x2, v_y2, v_names2, v_chroms2 = process_dataframe(valid_x2, valid_y2)\n",
    "\n",
    "valid_x = v_x1 + v_x2\n",
    "valid_y = v_y1 + v_y2\n",
    "valid_names = v_names1 + v_names2\n"
   ]
  },
  {
   "cell_type": "code",
   "execution_count": 19,
   "id": "b317b427",
   "metadata": {},
   "outputs": [],
   "source": [
    "import pyBigWig\n",
    "import glob"
   ]
  },
  {
   "cell_type": "code",
   "execution_count": 72,
   "id": "0a442d7b",
   "metadata": {},
   "outputs": [],
   "source": [
    "half_window = int(parameters.SIGNAL_CNN_WINDOW // 2)\n",
    "chromstrs = []\n",
    "ranges = []\n",
    "\n",
    "\n",
    "def get_signals_bins(df, cell_type):\n",
    "    df[\"neg_strand\"] = mask = df['strand'] == '-'\n",
    "    df.loc[mask, ['TSS_start', 'TSS_end']] = df.loc[mask, ['TSS_end', 'TSS_start']].values\n",
    "    df[\"center\"] = ((df[\"TSS_start\"] + df[\"TSS_end\"]) // 2).astype(int)\n",
    "    df[\"window_start\"] = df[\"center\"] - half_window\n",
    "    df[\"window_end\"] = df[\"center\"] + half_window\n",
    "    # df.loc[mask, ['window_start', 'window_end']] = df.loc[mask, ['window_end', 'window_start']].values\n",
    "    # df.drop(columns=['strand', 'TSS_start', 'TSS_end', 'neg_strand', 'center'], inplace=True)\n",
    "\n",
    "    bins_signal_gene = np.zeros((len(df), len(parameters.SIGNALS_CNN), parameters.CNN_N_BINS))\n",
    "    for i, signal in enumerate(parameters.SIGNALS_CNN):\n",
    "        print(\"Processing signal:\", signal, f\"{i+1}/{len(parameters.SIGNALS_CNN)}\")\n",
    "\n",
    "        for j, (chromstr, window_start, window_end, neg_strand) in enumerate(tqdm(df[[\"chr\", \"window_start\", \"window_end\", \"neg_strand\"]].itertuples(index=False), total=len(df))):\n",
    "            fname = glob.glob(f\"Data/bigwig/{signal}-bigwig/{cell_type}*\")[0]\n",
    "            bw = pyBigWig.open(fname)\n",
    "            # print(chromstr, ranges[0][0], ranges[0][1])\n",
    "            bins = bw.stats(chromstr, window_start, window_end, type=\"mean\", nBins=parameters.CNN_N_BINS)\n",
    "            if neg_strand:\n",
    "                bins = bins[::-1]\n",
    "            bins_signal_gene[j, i] = bins\n",
    "            # print(chr_i + 1, x, y)\n",
    "            bw.close()\n",
    "            \n",
    "    return bins_signal_gene"
   ]
  },
  {
   "cell_type": "code",
   "execution_count": 73,
   "id": "1eeabdfc",
   "metadata": {},
   "outputs": [
    {
     "name": "stdout",
     "output_type": "stream",
     "text": [
      "Processing signal: DNase 1/5\n"
     ]
    },
    {
     "name": "stderr",
     "output_type": "stream",
     "text": [
      "100%|██████████| 14310/14310 [00:48<00:00, 294.14it/s]\n"
     ]
    },
    {
     "name": "stdout",
     "output_type": "stream",
     "text": [
      "Processing signal: H3K4me1 2/5\n"
     ]
    },
    {
     "name": "stderr",
     "output_type": "stream",
     "text": [
      "100%|██████████| 14310/14310 [04:34<00:00, 52.09it/s]\n"
     ]
    },
    {
     "name": "stdout",
     "output_type": "stream",
     "text": [
      "Processing signal: H3K4me3 3/5\n"
     ]
    },
    {
     "name": "stderr",
     "output_type": "stream",
     "text": [
      "100%|██████████| 14310/14310 [04:39<00:00, 51.21it/s] \n"
     ]
    },
    {
     "name": "stdout",
     "output_type": "stream",
     "text": [
      "Processing signal: H3K27ac 4/5\n"
     ]
    },
    {
     "name": "stderr",
     "output_type": "stream",
     "text": [
      "100%|██████████| 14310/14310 [03:09<00:00, 75.39it/s] \n"
     ]
    },
    {
     "name": "stdout",
     "output_type": "stream",
     "text": [
      "Processing signal: H3K36me3 5/5\n"
     ]
    },
    {
     "name": "stderr",
     "output_type": "stream",
     "text": [
      "100%|██████████| 14310/14310 [06:12<00:00, 38.37it/s]\n"
     ]
    }
   ],
   "source": [
    "df = pd.read_csv('./Data/CAGE-train/X2_train_info.tsv', sep='\\t', usecols=[0,1,4,5,6])\n",
    "signal_bins_X2_train = get_signals_bins(df, \"X2\")\n",
    "np.save('Data/processed/cnn_input_X2_train.npy', signal_bins_X2_train)"
   ]
  },
  {
   "cell_type": "code",
   "execution_count": 74,
   "id": "877a541c",
   "metadata": {},
   "outputs": [
    {
     "name": "stdout",
     "output_type": "stream",
     "text": [
      "Processing signal: DNase 1/5\n"
     ]
    },
    {
     "name": "stderr",
     "output_type": "stream",
     "text": [
      "100%|██████████| 1974/1974 [00:03<00:00, 514.25it/s]\n"
     ]
    },
    {
     "name": "stdout",
     "output_type": "stream",
     "text": [
      "Processing signal: H3K4me1 2/5\n"
     ]
    },
    {
     "name": "stderr",
     "output_type": "stream",
     "text": [
      "100%|██████████| 1974/1974 [00:10<00:00, 183.28it/s]\n"
     ]
    },
    {
     "name": "stdout",
     "output_type": "stream",
     "text": [
      "Processing signal: H3K4me3 3/5\n"
     ]
    },
    {
     "name": "stderr",
     "output_type": "stream",
     "text": [
      "100%|██████████| 1974/1974 [00:14<00:00, 137.05it/s]\n"
     ]
    },
    {
     "name": "stdout",
     "output_type": "stream",
     "text": [
      "Processing signal: H3K27ac 4/5\n"
     ]
    },
    {
     "name": "stderr",
     "output_type": "stream",
     "text": [
      "100%|██████████| 1974/1974 [00:19<00:00, 101.97it/s]\n"
     ]
    },
    {
     "name": "stdout",
     "output_type": "stream",
     "text": [
      "Processing signal: H3K36me3 5/5\n"
     ]
    },
    {
     "name": "stderr",
     "output_type": "stream",
     "text": [
      "100%|██████████| 1974/1974 [00:19<00:00, 103.35it/s]\n"
     ]
    }
   ],
   "source": [
    "df = pd.read_csv('./Data/CAGE-train/X1_val_info.tsv', sep='\\t', usecols=[0,1,4,5,6])\n",
    "signal_bins_X1_val = get_signals_bins(df, \"X1\")\n",
    "np.save('Data/processed/cnn_input_X1_val.npy', signal_bins_X1_val)\n"
   ]
  },
  {
   "cell_type": "code",
   "execution_count": 75,
   "id": "63c43025",
   "metadata": {},
   "outputs": [
    {
     "name": "stdout",
     "output_type": "stream",
     "text": [
      "Processing signal: DNase 1/5\n"
     ]
    },
    {
     "name": "stderr",
     "output_type": "stream",
     "text": [
      "100%|██████████| 1974/1974 [00:08<00:00, 233.62it/s]\n"
     ]
    },
    {
     "name": "stdout",
     "output_type": "stream",
     "text": [
      "Processing signal: H3K4me1 2/5\n"
     ]
    },
    {
     "name": "stderr",
     "output_type": "stream",
     "text": [
      "100%|██████████| 1974/1974 [00:32<00:00, 61.26it/s] \n"
     ]
    },
    {
     "name": "stdout",
     "output_type": "stream",
     "text": [
      "Processing signal: H3K4me3 3/5\n"
     ]
    },
    {
     "name": "stderr",
     "output_type": "stream",
     "text": [
      "100%|██████████| 1974/1974 [00:42<00:00, 46.52it/s] \n"
     ]
    },
    {
     "name": "stdout",
     "output_type": "stream",
     "text": [
      "Processing signal: H3K27ac 4/5\n"
     ]
    },
    {
     "name": "stderr",
     "output_type": "stream",
     "text": [
      "100%|██████████| 1974/1974 [00:19<00:00, 99.90it/s] \n"
     ]
    },
    {
     "name": "stdout",
     "output_type": "stream",
     "text": [
      "Processing signal: H3K36me3 5/5\n"
     ]
    },
    {
     "name": "stderr",
     "output_type": "stream",
     "text": [
      "100%|██████████| 1974/1974 [00:23<00:00, 82.96it/s] \n"
     ]
    }
   ],
   "source": [
    "\n",
    "df = pd.read_csv('./Data/CAGE-train/X2_val_info.tsv', sep='\\t', usecols=[0,1,4,5,6])\n",
    "signal_bins_X2_val = get_signals_bins(df, \"X2\")\n",
    "np.save('Data/processed/cnn_input_X2_val.npy', signal_bins_X2_val)"
   ]
  },
  {
   "cell_type": "code",
   "execution_count": 76,
   "id": "4c8cfc6e",
   "metadata": {},
   "outputs": [],
   "source": [
    "y_val = {}\n",
    "for cell_type in [\"X1\", \"X2\"]:\n",
    "    val_df = pd.read_csv(f\"Data/CAGE-train/{cell_type}_val_y.tsv\", sep=\"\\t\") #, index_col=\"gene_name\")\n",
    "    values = np.array(val_df[\"gex\"].values)\n",
    "    np.save(f\"Data/processed/{cell_type}_val_y.npy\", values)\n"
   ]
  }
 ],
 "metadata": {
  "kernelspec": {
   "display_name": "ml4g",
   "language": "python",
   "name": "python3"
  },
  "language_info": {
   "codemirror_mode": {
    "name": "ipython",
    "version": 3
   },
   "file_extension": ".py",
   "mimetype": "text/x-python",
   "name": "python",
   "nbconvert_exporter": "python",
   "pygments_lexer": "ipython3",
   "version": "3.12.12"
  }
 },
 "nbformat": 4,
 "nbformat_minor": 5
}
