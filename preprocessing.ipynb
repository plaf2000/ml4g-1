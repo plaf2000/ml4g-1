{
 "cells": [
  {
   "cell_type": "code",
   "execution_count": 1,
   "id": "7e1d3c95",
   "metadata": {},
   "outputs": [],
   "source": [
    "import pandas as pd\n",
    "import numpy as np\n",
    "import os\n",
    "import parameters\n",
    "from tqdm import tqdm\n"
   ]
  },
  {
   "cell_type": "code",
   "execution_count": 28,
   "id": "d5ffdc2c",
   "metadata": {},
   "outputs": [
    {
     "data": {
      "text/plain": [
       "5"
      ]
     },
     "execution_count": 28,
     "metadata": {},
     "output_type": "execute_result"
    }
   ],
   "source": [
    "parameters.KNN"
   ]
  },
  {
   "cell_type": "code",
   "execution_count": null,
   "id": "4d246a03",
   "metadata": {},
   "outputs": [
    {
     "name": "stderr",
     "output_type": "stream",
     "text": [
      "100%|██████████| 14310/14310 [01:41<00:00, 141.68it/s]\n",
      "100%|██████████| 14310/14310 [01:21<00:00, 174.69it/s]\n",
      "100%|██████████| 14310/14310 [01:52<00:00, 127.32it/s]\n",
      "100%|██████████| 14310/14310 [01:03<00:00, 225.61it/s]\n",
      "100%|██████████| 14310/14310 [00:50<00:00, 285.45it/s]\n",
      "100%|██████████| 14310/14310 [00:41<00:00, 345.02it/s]\n",
      "100%|██████████| 14310/14310 [01:19<00:00, 179.56it/s]\n",
      "100%|██████████| 14310/14310 [01:35<00:00, 150.01it/s]\n",
      "100%|██████████| 14310/14310 [03:27<00:00, 69.02it/s]\n",
      "100%|██████████| 14310/14310 [03:26<00:00, 69.43it/s]\n",
      "100%|██████████| 14310/14310 [01:02<00:00, 228.40it/s]\n",
      "100%|██████████| 14310/14310 [00:47<00:00, 304.18it/s]\n",
      "100%|██████████| 14310/14310 [01:53<00:00, 125.63it/s]\n",
      "100%|██████████| 14310/14310 [01:35<00:00, 149.60it/s]\n"
     ]
    }
   ],
   "source": [
    "header = [\"chr\", \"start\", \"end\", \"name\", \"score\", \"strand\", \"signalValue\", \"pValue\", \"qValue\", \"peak\"]\n",
    "all_chroms = {f\"chr{i}\" for i in range(1, 23)}\n",
    "B = {\"chr14\", \"chr19\"}\n",
    "C = {\"chr1\"}\n",
    "A = all_chroms - B - C\n",
    "\n",
    "data_train = {}\n",
    "sorted_indexes = {}\n",
    "\n",
    "n_sorted_indexes = 100\n",
    "\n",
    "\n",
    "for cell_type in [\"X1\", \"X2\"]:\n",
    "    train_df = pd.read_csv(f\"Data/CAGE-train/{cell_type}_train_info.tsv\", sep=\"\\t\") #, index_col=\"gene_name\")\n",
    "\n",
    "    data_train[cell_type] = np.zeros((len(train_df), parameters.N_BEDS, parameters.KNN, parameters.N_FEATURES_BED))\n",
    "    sorted_indexes[cell_type] = -np.ones((len(train_df), parameters.N_BEDS, n_sorted_indexes), dtype=int)\n",
    "    \n",
    "    for signal_index, signal in enumerate(os.listdir(\"Data/bed/\")):\n",
    "        bed = pd.read_csv(f\"Data/bed/{signal}/{cell_type}.bed\", names=header, sep=\"\\t\")\n",
    "        bed[\"center\"] = (bed[\"start\"] + bed[\"end\"]) // 2\n",
    "\n",
    "        # joined_df = train_df.merge(bed, on=\"chr\", how=\"inner\", suffixes=('_train', '_bed'))\n",
    "        # joined_df[\"distance\"] = np.abs(joined_df[\"center\"] - joined_df[\"TSS_start\"])\n",
    "        # joined_df = joined_df.groupby(\"gene_name\").apply(lambda x: x.nsmallest(parameters.KNN, \"distance\"))\n",
    "        # print(joined_df.head())\n",
    "\n",
    "        for row_index, row in tqdm(train_df.iterrows(), total=len(train_df)):\n",
    "            chr = row[\"chr\"]\n",
    "            TSS_start = row[\"TSS_start\"]\n",
    "            TSS_end = row[\"TSS_end\"]\n",
    "            same_chromosome = bed[bed[\"chr\"] == chr].copy()\n",
    "            same_chromosome[\"distance\"] = np.abs(same_chromosome[\"center\"] - TSS_start)\n",
    "            closest_indexes = np.argsort(same_chromosome[\"distance\"])[:n_sorted_indexes]\n",
    "            knn = same_chromosome.iloc[closest_indexes[:parameters.KNN]]\n",
    "\n",
    "            data_train[cell_type][row_index, signal_index, :, 0] = knn[\"signalValue\"].values\n",
    "            data_train[cell_type][row_index, signal_index, :, 1] = knn[\"distance\"].values\n",
    "            sorted_indexes[cell_type][row_index, signal_index, :len(closest_indexes)] = closest_indexes\n",
    "\n",
    "        \n"
   ]
  },
  {
   "cell_type": "code",
   "execution_count": 26,
   "id": "8e392342",
   "metadata": {},
   "outputs": [],
   "source": [
    "y_train = {}\n",
    "for cell_type in [\"X1\", \"X2\"]:\n",
    "    train_df = pd.read_csv(f\"Data/CAGE-train/{cell_type}_train_y.tsv\", sep=\"\\t\") #, index_col=\"gene_name\")\n",
    "    y_train[cell_type] = np.array(train_df[\"gex\"].values)"
   ]
  },
  {
   "cell_type": "code",
   "execution_count": 35,
   "id": "0448e0e1",
   "metadata": {},
   "outputs": [],
   "source": [
    "np.savez(f\"Data/processed/data_train.npz\", X1=data_train[\"X1\"], X2=data_train[\"X2\"], labels_X1=y_train[\"X1\"], labels_X2=y_train[\"X2\"])"
   ]
  },
  {
   "cell_type": "code",
   "execution_count": null,
   "id": "3cc78f52",
   "metadata": {},
   "outputs": [],
   "source": [
    "np.savez_compressed(f\"Data/processed/sorted_indexes.npz\", X1=sorted_indexes[\"X1\"], X2=sorted_indexes[\"X2\"])\n"
   ]
  },
  {
   "cell_type": "code",
   "execution_count": null,
   "id": "ea2392b0",
   "metadata": {},
   "outputs": [],
   "source": [
    "\n",
    "\n",
    "np.savez(f\"Data/processed/labels_train.npz\", X1=y_train[\"X1\"], X2=y_train[\"X2\"])"
   ]
  },
  {
   "cell_type": "markdown",
   "id": "bd9a3ed3",
   "metadata": {},
   "source": [
    "Create the train data based on already sorted indexes (which is computationally demanding)."
   ]
  },
  {
   "cell_type": "code",
   "execution_count": 33,
   "id": "f0389844",
   "metadata": {},
   "outputs": [
    {
     "name": "stderr",
     "output_type": "stream",
     "text": [
      "100%|██████████| 14310/14310 [01:55<00:00, 123.85it/s]\n",
      "100%|██████████| 14310/14310 [01:29<00:00, 159.72it/s]\n",
      "100%|██████████| 14310/14310 [02:05<00:00, 114.39it/s]\n",
      "100%|██████████| 14310/14310 [01:17<00:00, 184.49it/s]\n",
      "100%|██████████| 14310/14310 [01:01<00:00, 234.54it/s]\n",
      "100%|██████████| 14310/14310 [00:49<00:00, 291.17it/s]\n",
      "100%|██████████| 14310/14310 [01:38<00:00, 145.51it/s]\n",
      "100%|██████████| 14310/14310 [01:54<00:00, 125.07it/s]\n",
      "100%|██████████| 14310/14310 [03:39<00:00, 65.34it/s]\n",
      "100%|██████████| 14310/14310 [02:44<00:00, 86.84it/s] \n",
      "100%|██████████| 14310/14310 [01:07<00:00, 213.43it/s]\n",
      "100%|██████████| 14310/14310 [00:58<00:00, 245.61it/s]\n",
      "100%|██████████| 14310/14310 [02:06<00:00, 112.89it/s]\n",
      "100%|██████████| 14310/14310 [01:54<00:00, 125.26it/s]\n"
     ]
    }
   ],
   "source": [
    "sorted_indexes = np.load(f\"Data/processed/sorted_indexes.npz\")\n",
    "data_train = {}\n",
    "for cell_type in [\"X1\", \"X2\"]:\n",
    "    indexes = sorted_indexes[cell_type]\n",
    "    train_df = pd.read_csv(f\"Data/CAGE-train/{cell_type}_train_info.tsv\", sep=\"\\t\") #, index_col=\"gene_name\")\n",
    "    data_train[cell_type] = np.zeros((len(train_df), parameters.N_BEDS, parameters.KNN, 5))\n",
    "\n",
    "    for signal_index, signal in enumerate(os.listdir(\"Data/bed/\")):\n",
    "        bed = pd.read_csv(f\"Data/bed/{signal}/{cell_type}.bed\", names=header, sep=\"\\t\")\n",
    "        bed[\"center\"] = (bed[\"start\"] + bed[\"end\"]) // 2\n",
    "        for row_index, row in tqdm(train_df.iterrows(), total=len(train_df)):\n",
    "            knn_indx = indexes[row_index, signal_index, :parameters.KNN]\n",
    "            same_chromosome = bed[bed[\"chr\"] == row[\"chr\"]].copy()\n",
    "            knn = same_chromosome.iloc[knn_indx].copy()\n",
    "            knn[\"rel_pos_TSS_start\"] = knn[\"center\"] - row[\"TSS_start\"]\n",
    "            knn[\"rel_pos_TSS_end\"] = knn[\"center\"] - row[\"TSS_end\"]\n",
    "            knn[\"rel_pos_gene_start\"] = knn[\"center\"] - row[\"gene_start\"]\n",
    "            knn[\"rel_pos_gene_end\"] = knn[\"center\"] - row[\"gene_end\"]\n",
    "\n",
    "            data_train[cell_type][row_index, signal_index, :, 0] = knn[\"signalValue\"].values\n",
    "            data_train[cell_type][row_index, signal_index, :, 1] = knn[\"rel_pos_TSS_start\"].values\n",
    "            data_train[cell_type][row_index, signal_index, :, 2] = knn[\"rel_pos_TSS_end\"].values\n",
    "            data_train[cell_type][row_index, signal_index, :, 3] = knn[\"rel_pos_gene_start\"].values\n",
    "            data_train[cell_type][row_index, signal_index, :, 4] = knn[\"rel_pos_gene_end\"].values\n",
    "\n",
    "\n",
    "            \n",
    "    "
   ]
  },
  {
   "cell_type": "code",
   "execution_count": null,
   "id": "f3e551f7",
   "metadata": {},
   "outputs": [],
   "source": []
  },
  {
   "cell_type": "code",
   "execution_count": null,
   "id": "d633d414",
   "metadata": {},
   "outputs": [],
   "source": [
    "train_data = np.load(\"Data/train_data.npz\", allow_pickle=True)"
   ]
  },
  {
   "cell_type": "code",
   "execution_count": null,
   "id": "8b38689f",
   "metadata": {},
   "outputs": [
    {
     "data": {
      "text/plain": [
       "32568"
      ]
     },
     "execution_count": 24,
     "metadata": {},
     "output_type": "execute_result"
    }
   ],
   "source": [
    "X = train_data[\"x\"]\n",
    "X[:, :, 0].mean()\n",
    "len(X)"
   ]
  }
 ],
 "metadata": {
  "kernelspec": {
   "display_name": "ml4g",
   "language": "python",
   "name": "python3"
  },
  "language_info": {
   "codemirror_mode": {
    "name": "ipython",
    "version": 3
   },
   "file_extension": ".py",
   "mimetype": "text/x-python",
   "name": "python",
   "nbconvert_exporter": "python",
   "pygments_lexer": "ipython3",
   "version": "3.12.12"
  }
 },
 "nbformat": 4,
 "nbformat_minor": 5
}
